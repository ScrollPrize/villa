{
 "cells": [
  {
   "cell_type": "markdown",
   "metadata": {},
   "source": [
    "# Example Scroll Case\n"
   ]
  },
  {
   "cell_type": "code",
   "execution_count": null,
   "metadata": {},
   "outputs": [],
   "source": [
    "from build123d import *\n",
    "import scrollcase as sc\n",
    "import logging\n",
    "from functools import partial\n",
    "from ocp_vscode import *\n",
    "\n",
    "logging.basicConfig()  # Required in Jupyter to correctly set output stream\n",
    "logging.getLogger(\"scrollcase\").setLevel(logging.DEBUG)"
   ]
  },
  {
   "cell_type": "code",
   "execution_count": null,
   "metadata": {},
   "outputs": [],
   "source": [
    "scroll_number = \"172\"\n",
    "\n",
    "# Format the integer part to 4 digits and reattach the letter\n",
    "padded_scroll = f\"{int(scroll_number):04d}\""
   ]
  },
  {
   "cell_type": "markdown",
   "metadata": {},
   "source": [
    "# Important Note\n",
    "\n",
    "In production the tolerance values e.g. voxel_size should likely be reduced. The following values are optimized primarily for performance.\n"
   ]
  },
  {
   "cell_type": "markdown",
   "metadata": {},
   "source": [
    "# Basic Mesh\n"
   ]
  },
  {
   "cell_type": "code",
   "execution_count": null,
   "metadata": {},
   "outputs": [],
   "source": [
    "scroll_mesh = sc.mesh.ScrollMesh(\n",
    "    f\"../data/scrolls/PHerc172-Scroll.ply\",\n",
    "    smoothing_callback=partial(sc.mesh.mesh_smooth_denoise, gamma=20),\n",
    ")\n",
    "(\n",
    "    lining_mesh_pos,\n",
    "    lining_mesh_neg,\n",
    "    cavity_mesh_pos,\n",
    "    cavity_mesh_neg,\n",
    "    mesh_scroll,\n",
    "    radius,\n",
    "    height,\n",
    ") = sc.mesh.build_lining(scroll_mesh)\n",
    "sc.mesh.show_meshlib(lining_mesh_neg, mesh_scroll)"
   ]
  },
  {
   "cell_type": "code",
   "execution_count": null,
   "metadata": {},
   "outputs": [],
   "source": [
    "case = sc.case.ScrollCase(height, radius, label_line_1=f\"PHerc{padded_scroll}\", label_line_2=\"v1\")\n",
    "case_left, case_right = sc.case.build_case(case)\n",
    "show(case_left, case_right, reset_camera=Camera.KEEP)"
   ]
  },
  {
   "cell_type": "code",
   "execution_count": null,
   "metadata": {},
   "outputs": [],
   "source": [
    "combined_mesh_pos = sc.mesh.combine_brep_case_lining(\n",
    "    case_right, cavity_mesh_pos, lining_mesh_pos\n",
    ")\n",
    "sc.mesh.show_meshlib(combined_mesh_pos)"
   ]
  },
  {
   "cell_type": "code",
   "execution_count": null,
   "metadata": {},
   "outputs": [],
   "source": [
    "combined_mesh_neg = sc.mesh.combine_brep_case_lining(\n",
    "    case_left, cavity_mesh_neg, lining_mesh_neg\n",
    ")\n",
    "sc.mesh.show_meshlib(combined_mesh_neg)"
   ]
  },
  {
   "cell_type": "code",
   "execution_count": null,
   "metadata": {},
   "outputs": [],
   "source": []
  }
 ],
 "metadata": {
  "kernelspec": {
   "display_name": ".venv",
   "language": "python",
   "name": "python3"
  },
  "language_info": {
   "codemirror_mode": {
    "name": "ipython",
    "version": 3
   },
   "file_extension": ".py",
   "mimetype": "text/x-python",
   "name": "python",
   "nbconvert_exporter": "python",
   "pygments_lexer": "ipython3",
   "version": "3.13.1"
  }
 },
 "nbformat": 4,
 "nbformat_minor": 2
}
