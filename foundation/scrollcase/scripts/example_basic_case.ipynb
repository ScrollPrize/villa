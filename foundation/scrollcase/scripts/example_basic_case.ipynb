{
 "cells": [
  {
   "cell_type": "markdown",
   "metadata": {},
   "source": [
    "# Example Scroll Case\n"
   ]
  },
  {
   "cell_type": "code",
   "execution_count": null,
   "metadata": {},
   "outputs": [],
   "source": [
    "from build123d import *\n",
    "import scrollcase as sc\n",
    "import logging\n",
    "\n",
    "logging.basicConfig()  # Required in Jupyter to correctly set output stream\n",
    "logging.getLogger(\"scrollcase\").setLevel(logging.DEBUG)"
   ]
  },
  {
   "cell_type": "code",
   "execution_count": null,
   "metadata": {},
   "outputs": [],
   "source": [
    "mesh = sc.mesh.load_mesh(\"../data/scrolls/PHerc172-Scroll.ply\")"
   ]
  },
  {
   "cell_type": "code",
   "execution_count": null,
   "metadata": {},
   "outputs": [],
   "source": [
    "(\n",
    "    lining_mesh_pos,\n",
    "    lining_mesh_neg,\n",
    "    cavity_mesh_pos,\n",
    "    cavity_mesh_neg,\n",
    "    mesh_scroll,\n",
    "    radius,\n",
    "    height,\n",
    ") = sc.mesh.build_lining(\n",
    "    mesh,\n",
    "    cylinder_axis_tol=0.1,\n",
    "    target_scale_diagonal_mm=180,\n",
    "    rotation_strategy=sc.mesh.RotationStrategy.THIRD_PRINCIPAL,\n",
    "    # voxel_size_diagonal_percent=0.1, # Keep at defaults for now\n",
    "    # simplify_max_error_diagonal_percent=0.01 \n",
    "    # _debug=True, # Plot the cylinder fit in browser\n",
    ")\n",
    "sc.mesh.show_meshlib(lining_mesh_neg, mesh_scroll)"
   ]
  }
 ],
 "metadata": {
  "kernelspec": {
   "display_name": "python-3.12",
   "language": "python",
   "name": "python3"
  },
  "language_info": {
   "codemirror_mode": {
    "name": "ipython",
    "version": 3
   },
   "file_extension": ".py",
   "mimetype": "text/x-python",
   "name": "python",
   "nbconvert_exporter": "python",
   "pygments_lexer": "ipython3",
   "version": "3.12.5"
  }
 },
 "nbformat": 4,
 "nbformat_minor": 2
}
