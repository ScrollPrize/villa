{
 "cells": [
  {
   "cell_type": "markdown",
   "metadata": {},
   "source": [
    "# Example Scroll Case\n"
   ]
  },
  {
   "cell_type": "code",
   "execution_count": null,
   "metadata": {},
   "outputs": [],
   "source": [
    "from build123d import *\n",
    "import scrollcase as sc\n",
    "import logging\n",
    "from ocp_vscode import *\n",
    "\n",
    "logging.basicConfig()  # Required in Jupyter to correctly set output stream\n",
    "logging.getLogger(\"scrollcase\").setLevel(logging.DEBUG)"
   ]
  },
  {
   "cell_type": "code",
   "execution_count": null,
   "metadata": {},
   "outputs": [],
   "source": [
    "mesh = sc.mesh.load_mesh(\"../data/scrolls/PHerc172-Scroll.ply\")"
   ]
  },
  {
   "cell_type": "code",
   "execution_count": null,
   "metadata": {},
   "outputs": [],
   "source": [
    "(\n",
    "    lining_mesh_pos,\n",
    "    lining_mesh_neg,\n",
    "    cavity_mesh_pos,\n",
    "    cavity_mesh_neg,\n",
    "    mesh_scroll,\n",
    "    radius,\n",
    "    height,\n",
    ") = sc.mesh.build_lining(\n",
    "    mesh,\n",
    "    cylinder_axis_tol=0.1,\n",
    "    target_scale_diagonal_mm=180,\n",
    "    rotation_strategy=sc.mesh.RotationStrategy.THIRD_PRINCIPAL,\n",
    ")\n",
    "sc.mesh.show_meshlib(lining_mesh_neg, mesh_scroll)"
   ]
  },
  {
   "cell_type": "code",
   "execution_count": null,
   "metadata": {},
   "outputs": [],
   "source": [
    "case = sc.case.ScrollCase(height, radius)\n",
    "case_left, case_right = sc.case.build_case(case)\n",
    "show(case_left, case_right)"
   ]
  },
  {
   "cell_type": "code",
   "execution_count": null,
   "metadata": {},
   "outputs": [],
   "source": [
    "export_stl(case_right, \"case_right.stl\")\n",
    "case_mesh_right = sc.mesh.load_mesh(\"case_right.stl\")"
   ]
  },
  {
   "cell_type": "code",
   "execution_count": null,
   "metadata": {},
   "outputs": [],
   "source": [
    "combined_mesh_pos = sc.mesh.combine_case_lining(case_mesh_right, cavity_mesh_pos, lining_mesh_pos)\n",
    "sc.mesh.show_meshlib(combined_mesh_pos)"
   ]
  }
 ],
 "metadata": {
  "kernelspec": {
   "display_name": "python-3.12",
   "language": "python",
   "name": "python3"
  },
  "language_info": {
   "codemirror_mode": {
    "name": "ipython",
    "version": 3
   },
   "file_extension": ".py",
   "mimetype": "text/x-python",
   "name": "python",
   "nbconvert_exporter": "python",
   "pygments_lexer": "ipython3",
   "version": "3.12.5"
  }
 },
 "nbformat": 4,
 "nbformat_minor": 2
}
