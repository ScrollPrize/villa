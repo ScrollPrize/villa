{
 "cells": [
  {
   "cell_type": "code",
   "id": "initial_id",
   "metadata": {
    "collapsed": true,
    "ExecuteTime": {
     "end_time": "2025-03-26T01:48:39.703017Z",
     "start_time": "2025-03-26T01:48:24.690965Z"
    }
   },
   "source": [
    "import zarr\n",
    "import tifffile\n"
   ],
   "outputs": [],
   "execution_count": 4
  },
  {
   "metadata": {
    "ExecuteTime": {
     "end_time": "2025-03-26T01:48:51.387857Z",
     "start_time": "2025-03-26T01:48:51.350797Z"
    }
   },
   "cell_type": "code",
   "source": [
    "zvol = zarr.open('/Users/seanjohnson/ves/s1.volpkg/volumes/050_entire_scroll1_ome.zarr/0', mode='r')\n",
    "zslice = zvol[5000:5256, 2200:2456, 2200:2456]\n",
    "tifffile.imwrite('zvol.tif', zslice)"
   ],
   "id": "50eeeeb146ca6dc4",
   "outputs": [],
   "execution_count": 5
  }
 ],
 "metadata": {
  "kernelspec": {
   "display_name": "Python 3",
   "language": "python",
   "name": "python3"
  },
  "language_info": {
   "codemirror_mode": {
    "name": "ipython",
    "version": 2
   },
   "file_extension": ".py",
   "mimetype": "text/x-python",
   "name": "python",
   "nbconvert_exporter": "python",
   "pygments_lexer": "ipython2",
   "version": "2.7.6"
  }
 },
 "nbformat": 4,
 "nbformat_minor": 5
}
